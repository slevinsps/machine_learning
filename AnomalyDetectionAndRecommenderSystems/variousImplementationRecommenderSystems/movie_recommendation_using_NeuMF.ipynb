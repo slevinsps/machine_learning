{
 "cells": [
  {
   "cell_type": "markdown",
   "metadata": {},
   "source": [
    "# Overview\n",
    "\n",
    "In this project, I will use Neural Network Matrix Factorization with Keras to predict the ratings for the movies in [MovieLens Small Datasets](https://grouplens.org/datasets/movielens/latest/)\n",
    "\n",
    "\n",
    "## [Recommender system](https://en.wikipedia.org/wiki/Recommender_system)\n",
    "A recommendation system is basically an information filtering system that seeks to predict the \"rating\" or \"preference\" a user would give to an item. It is widely used in different internet / online business such as Amazon, Netflix, Spotify, or social media like Facebook and Youtube. By using recommender systems, those companies are able to provide better or more suited products/services/contents that are personalized to a user based on his/her historical consumer behaviors\n",
    "\n",
    "\n",
    "## [Neural Collaborative Filtering](https://dl.acm.org/citation.cfm?id=3052569)\n",
    "This notebook will present a general framework named NCF, short for Neural network-based Collaborative Filtering. NCF is generic and can express and generalize matrix factorization under its framework. To supercharge NCF modelling with non-linearities, I will leverage a multi-layer perceptron to learn the user-item interaction function. Extensive experiments on real-world datasets show significant improvements of our proposed NCF framework over the state-of-the-art methods. Empirical evidence shows that using deeper layers of neural networks offers better recommendation performance.\n",
    "\n",
    "\n",
    "## Data Sets\n",
    "We use [MovieLens Small Datasets](https://grouplens.org/datasets/movielens/latest/)\n",
    "This dataset (ml-latest-small) describes 5-star rating and free-text tagging activity from [MovieLens](http://movielens.org), a movie recommendation service. It contains 100004 ratings and 1296 tag applications across 9125 movies. These data were created by 671 users between January 09, 1995 and October 16, 2016. This dataset was generated on October 17, 2016.\n",
    "\n",
    "Users were selected at random for inclusion. All selected users had rated at least 20 movies. No demographic information is included. Each user is represented by an id, and no other information is provided.\n",
    "\n",
    "The data are contained in the files `links.csv`, `movies.csv`, `ratings.csv` and `tags.csv`\n",
    "\n",
    "\n",
    "## Project Content\n",
    "1. Load Data\n",
    "2. Split Data Into Train/Test\n",
    "3. Train Generalized Matrix Factorization Model and Test Model\n",
    "4. Train Multi-Layer Perceptron Model and Test Model\n",
    "5. Train Neural Matrix Factorization Model (NeuMF) and Test Model\n",
    "6. Experiment Observations\n",
    "7. Conclusion and Thoughts\n",
    "\n",
    "NOTE: Train Neural Matrix Factorization Model (NeuMF) is a stacking version of Generalized Matrix Factorization Model and Multi-Layer Perceptron Model"
   ]
  },
  {
   "cell_type": "code",
   "execution_count": 1,
   "metadata": {},
   "outputs": [
    {
     "name": "stderr",
     "output_type": "stream",
     "text": [
      "/home/ivan/.conda/envs/tensorflow/lib/python3.7/site-packages/tensorflow/python/framework/dtypes.py:516: FutureWarning: Passing (type, 1) or '1type' as a synonym of type is deprecated; in a future version of numpy, it will be understood as (type, (1,)) / '(1,)type'.\n",
      "  _np_qint8 = np.dtype([(\"qint8\", np.int8, 1)])\n",
      "/home/ivan/.conda/envs/tensorflow/lib/python3.7/site-packages/tensorflow/python/framework/dtypes.py:517: FutureWarning: Passing (type, 1) or '1type' as a synonym of type is deprecated; in a future version of numpy, it will be understood as (type, (1,)) / '(1,)type'.\n",
      "  _np_quint8 = np.dtype([(\"quint8\", np.uint8, 1)])\n",
      "/home/ivan/.conda/envs/tensorflow/lib/python3.7/site-packages/tensorflow/python/framework/dtypes.py:518: FutureWarning: Passing (type, 1) or '1type' as a synonym of type is deprecated; in a future version of numpy, it will be understood as (type, (1,)) / '(1,)type'.\n",
      "  _np_qint16 = np.dtype([(\"qint16\", np.int16, 1)])\n",
      "/home/ivan/.conda/envs/tensorflow/lib/python3.7/site-packages/tensorflow/python/framework/dtypes.py:519: FutureWarning: Passing (type, 1) or '1type' as a synonym of type is deprecated; in a future version of numpy, it will be understood as (type, (1,)) / '(1,)type'.\n",
      "  _np_quint16 = np.dtype([(\"quint16\", np.uint16, 1)])\n",
      "/home/ivan/.conda/envs/tensorflow/lib/python3.7/site-packages/tensorflow/python/framework/dtypes.py:520: FutureWarning: Passing (type, 1) or '1type' as a synonym of type is deprecated; in a future version of numpy, it will be understood as (type, (1,)) / '(1,)type'.\n",
      "  _np_qint32 = np.dtype([(\"qint32\", np.int32, 1)])\n",
      "/home/ivan/.conda/envs/tensorflow/lib/python3.7/site-packages/tensorflow/python/framework/dtypes.py:525: FutureWarning: Passing (type, 1) or '1type' as a synonym of type is deprecated; in a future version of numpy, it will be understood as (type, (1,)) / '(1,)type'.\n",
      "  np_resource = np.dtype([(\"resource\", np.ubyte, 1)])\n",
      "/home/ivan/.conda/envs/tensorflow/lib/python3.7/site-packages/tensorboard/compat/tensorflow_stub/dtypes.py:541: FutureWarning: Passing (type, 1) or '1type' as a synonym of type is deprecated; in a future version of numpy, it will be understood as (type, (1,)) / '(1,)type'.\n",
      "  _np_qint8 = np.dtype([(\"qint8\", np.int8, 1)])\n",
      "/home/ivan/.conda/envs/tensorflow/lib/python3.7/site-packages/tensorboard/compat/tensorflow_stub/dtypes.py:542: FutureWarning: Passing (type, 1) or '1type' as a synonym of type is deprecated; in a future version of numpy, it will be understood as (type, (1,)) / '(1,)type'.\n",
      "  _np_quint8 = np.dtype([(\"quint8\", np.uint8, 1)])\n",
      "/home/ivan/.conda/envs/tensorflow/lib/python3.7/site-packages/tensorboard/compat/tensorflow_stub/dtypes.py:543: FutureWarning: Passing (type, 1) or '1type' as a synonym of type is deprecated; in a future version of numpy, it will be understood as (type, (1,)) / '(1,)type'.\n",
      "  _np_qint16 = np.dtype([(\"qint16\", np.int16, 1)])\n",
      "/home/ivan/.conda/envs/tensorflow/lib/python3.7/site-packages/tensorboard/compat/tensorflow_stub/dtypes.py:544: FutureWarning: Passing (type, 1) or '1type' as a synonym of type is deprecated; in a future version of numpy, it will be understood as (type, (1,)) / '(1,)type'.\n",
      "  _np_quint16 = np.dtype([(\"quint16\", np.uint16, 1)])\n",
      "/home/ivan/.conda/envs/tensorflow/lib/python3.7/site-packages/tensorboard/compat/tensorflow_stub/dtypes.py:545: FutureWarning: Passing (type, 1) or '1type' as a synonym of type is deprecated; in a future version of numpy, it will be understood as (type, (1,)) / '(1,)type'.\n",
      "  _np_qint32 = np.dtype([(\"qint32\", np.int32, 1)])\n",
      "/home/ivan/.conda/envs/tensorflow/lib/python3.7/site-packages/tensorboard/compat/tensorflow_stub/dtypes.py:550: FutureWarning: Passing (type, 1) or '1type' as a synonym of type is deprecated; in a future version of numpy, it will be understood as (type, (1,)) / '(1,)type'.\n",
      "  np_resource = np.dtype([(\"resource\", np.ubyte, 1)])\n"
     ]
    }
   ],
   "source": [
    "import os\n",
    "\n",
    "# data science imports\n",
    "import numpy as np\n",
    "\n",
    "\n",
    "# keras/tensorflow imports\n",
    "from tensorflow.keras.layers import Input, Embedding, Flatten, Dense, Multiply, Concatenate\n",
    "from tensorflow.keras.regularizers import l2\n",
    "from tensorflow.keras.models import Model\n",
    "# from tensorflow.keras.optimizers import Adagrad, Adam, SGD, RMSprop\n",
    "from tensorflow.keras.callbacks import EarlyStopping, ModelCheckpoint\n",
    "import tensorflow.keras.backend as K\n",
    "from tensorflow.keras.models import load_model\n",
    "\n",
    "import pandas as pd\n",
    "\n",
    "# sklearn imports\n",
    "from sklearn.model_selection import train_test_split\n",
    "\n",
    "# visualization imports\n",
    "import matplotlib.pyplot as plt\n",
    "%matplotlib inline"
   ]
  },
  {
   "cell_type": "code",
   "execution_count": 313,
   "metadata": {},
   "outputs": [],
   "source": [
    "# path config\n",
    "data_path = '/home/ivan/ML/MyDataSciencePortfolio-master/movie_recommender/ml-latest-small'\n",
    "ratings_filename = 'ratings.csv'\n"
   ]
  },
  {
   "cell_type": "markdown",
   "metadata": {},
   "source": [
    "## 1. Load Data"
   ]
  },
  {
   "cell_type": "code",
   "execution_count": 314,
   "metadata": {},
   "outputs": [
    {
     "name": "stdout",
     "output_type": "stream",
     "text": [
      "      movieId                                      title\n",
      "0           1                           Toy Story (1995)\n",
      "1           2                             Jumanji (1995)\n",
      "2           3                    Grumpier Old Men (1995)\n",
      "3           4                   Waiting to Exhale (1995)\n",
      "4           5         Father of the Bride Part II (1995)\n",
      "...       ...                                        ...\n",
      "9737   193581  Black Butler: Book of the Atlantic (2017)\n",
      "9738   193583               No Game No Life: Zero (2017)\n",
      "9739   193585                               Flint (2017)\n",
      "9740   193587        Bungo Stray Dogs: Dead Apple (2018)\n",
      "9741   193609        Andrew Dice Clay: Dice Rules (1991)\n",
      "\n",
      "[9742 rows x 2 columns]\n"
     ]
    }
   ],
   "source": [
    "df_ratings = pd.read_csv(\n",
    "    os.path.join(data_path, ratings_filename),\n",
    "    usecols=['userId', 'movieId', 'rating'],\n",
    "    dtype={'userId': 'int32', 'movieId': 'int32', 'rating': 'float32'})\n",
    "df_movies = pd.read_csv(\n",
    "    os.path.join(data_path, 'movies.csv'),\n",
    "    usecols=['movieId', 'title'],\n",
    "    dtype={'movieId': 'int32', 'title': 'str'})\n",
    "print(df_movies)"
   ]
  },
  {
   "cell_type": "code",
   "execution_count": 315,
   "metadata": {},
   "outputs": [
    {
     "name": "stdout",
     "output_type": "stream",
     "text": [
      "<class 'pandas.core.frame.DataFrame'>\n",
      "RangeIndex: 100859 entries, 0 to 100858\n",
      "Data columns (total 3 columns):\n",
      "userId     100859 non-null int32\n",
      "movieId    100859 non-null int32\n",
      "rating     100859 non-null float32\n",
      "dtypes: float32(1), int32(2)\n",
      "memory usage: 1.2 MB\n"
     ]
    }
   ],
   "source": [
    "df_ratings.info()"
   ]
  },
  {
   "cell_type": "code",
   "execution_count": 316,
   "metadata": {},
   "outputs": [
    {
     "data": {
      "text/html": [
       "<div>\n",
       "<style scoped>\n",
       "    .dataframe tbody tr th:only-of-type {\n",
       "        vertical-align: middle;\n",
       "    }\n",
       "\n",
       "    .dataframe tbody tr th {\n",
       "        vertical-align: top;\n",
       "    }\n",
       "\n",
       "    .dataframe thead th {\n",
       "        text-align: right;\n",
       "    }\n",
       "</style>\n",
       "<table border=\"1\" class=\"dataframe\">\n",
       "  <thead>\n",
       "    <tr style=\"text-align: right;\">\n",
       "      <th></th>\n",
       "      <th>userId</th>\n",
       "      <th>movieId</th>\n",
       "      <th>rating</th>\n",
       "    </tr>\n",
       "  </thead>\n",
       "  <tbody>\n",
       "    <tr>\n",
       "      <td>0</td>\n",
       "      <td>1</td>\n",
       "      <td>1</td>\n",
       "      <td>4.0</td>\n",
       "    </tr>\n",
       "    <tr>\n",
       "      <td>1</td>\n",
       "      <td>1</td>\n",
       "      <td>3</td>\n",
       "      <td>4.0</td>\n",
       "    </tr>\n",
       "    <tr>\n",
       "      <td>2</td>\n",
       "      <td>1</td>\n",
       "      <td>6</td>\n",
       "      <td>4.0</td>\n",
       "    </tr>\n",
       "    <tr>\n",
       "      <td>3</td>\n",
       "      <td>1</td>\n",
       "      <td>47</td>\n",
       "      <td>5.0</td>\n",
       "    </tr>\n",
       "    <tr>\n",
       "      <td>4</td>\n",
       "      <td>1</td>\n",
       "      <td>50</td>\n",
       "      <td>5.0</td>\n",
       "    </tr>\n",
       "  </tbody>\n",
       "</table>\n",
       "</div>"
      ],
      "text/plain": [
       "   userId  movieId  rating\n",
       "0       1        1     4.0\n",
       "1       1        3     4.0\n",
       "2       1        6     4.0\n",
       "3       1       47     5.0\n",
       "4       1       50     5.0"
      ]
     },
     "execution_count": 316,
     "metadata": {},
     "output_type": "execute_result"
    }
   ],
   "source": [
    "df_ratings.head()"
   ]
  },
  {
   "cell_type": "code",
   "execution_count": 317,
   "metadata": {},
   "outputs": [
    {
     "name": "stdout",
     "output_type": "stream",
     "text": [
      "There are 611 unique users and 9724 unique movies in this data set\n"
     ]
    }
   ],
   "source": [
    "num_users = len(df_ratings.userId.unique())\n",
    "num_items = len(df_ratings.movieId.unique())\n",
    "print('There are {} unique users and {} unique movies in this data set'.format(num_users, num_items))"
   ]
  },
  {
   "cell_type": "code",
   "execution_count": 318,
   "metadata": {},
   "outputs": [
    {
     "name": "stdout",
     "output_type": "stream",
     "text": [
      "There are 611 distinct users and the max of user ID is also 611\n",
      "There are 9724 distinct movies, however, the max of movie ID is 193609\n",
      "In the context of matrix factorization, the current item vector is in unnecessarily high dimensional space\n",
      "So we need to do some data cleaning to reduce the dimension of item vector back to 9724\n"
     ]
    }
   ],
   "source": [
    "user_maxId = df_ratings.userId.max()\n",
    "item_maxId = df_ratings.movieId.max()\n",
    "print('There are {} distinct users and the max of user ID is also {}'.format(num_users, user_maxId))\n",
    "print('There are {} distinct movies, however, the max of movie ID is {}'.format(num_items, item_maxId))\n",
    "print('In the context of matrix factorization, the current item vector is in unnecessarily high dimensional space')\n",
    "print('So we need to do some data cleaning to reduce the dimension of item vector back to {}'.format(num_items))"
   ]
  },
  {
   "cell_type": "code",
   "execution_count": 319,
   "metadata": {},
   "outputs": [],
   "source": [
    "def reduce_item_dim(df_ratings):\n",
    "    \"\"\"\n",
    "    Reduce item vector dimension to the number of distinct items in our data sets\n",
    "    \n",
    "    input: pd.DataFrame, df_ratings should have columns ['userId', 'movieId', 'rating']\n",
    "    output: pd.DataFrame, df_ratings with new 'MovieID' that is compressed\n",
    "    \"\"\"\n",
    "    # pivot\n",
    "    df_user_item = df_ratings.pivot(index='userId', columns='movieId', values='rating')\n",
    "    # reset movieId\n",
    "    print(df_user_item)\n",
    "    df_user_item = df_user_item.T.reset_index(drop=True).T\n",
    "    print(df_user_item)\n",
    "    # undo pivot/melt - compress data frame\n",
    "    df_ratings_new = df_user_item \\\n",
    "        .reset_index('userId') \\\n",
    "        .melt(\n",
    "            id_vars='userId', \n",
    "            value_vars=df_user_item.columns,\n",
    "            var_name='movieId',\n",
    "            value_name='rating')\n",
    "    # drop nan and final clean up\n",
    "    return df_ratings_new.dropna().sort_values(['userId', 'movieId']).reset_index(drop=True)"
   ]
  },
  {
   "cell_type": "code",
   "execution_count": 320,
   "metadata": {},
   "outputs": [
    {
     "name": "stdout",
     "output_type": "stream",
     "text": [
      "reduce item dimension before:\n"
     ]
    },
    {
     "data": {
      "text/html": [
       "<div>\n",
       "<style scoped>\n",
       "    .dataframe tbody tr th:only-of-type {\n",
       "        vertical-align: middle;\n",
       "    }\n",
       "\n",
       "    .dataframe tbody tr th {\n",
       "        vertical-align: top;\n",
       "    }\n",
       "\n",
       "    .dataframe thead th {\n",
       "        text-align: right;\n",
       "    }\n",
       "</style>\n",
       "<table border=\"1\" class=\"dataframe\">\n",
       "  <thead>\n",
       "    <tr style=\"text-align: right;\">\n",
       "      <th></th>\n",
       "      <th>userId</th>\n",
       "      <th>movieId</th>\n",
       "      <th>rating</th>\n",
       "    </tr>\n",
       "  </thead>\n",
       "  <tbody>\n",
       "    <tr>\n",
       "      <td>0</td>\n",
       "      <td>1</td>\n",
       "      <td>1</td>\n",
       "      <td>4.0</td>\n",
       "    </tr>\n",
       "    <tr>\n",
       "      <td>1</td>\n",
       "      <td>1</td>\n",
       "      <td>3</td>\n",
       "      <td>4.0</td>\n",
       "    </tr>\n",
       "    <tr>\n",
       "      <td>2</td>\n",
       "      <td>1</td>\n",
       "      <td>6</td>\n",
       "      <td>4.0</td>\n",
       "    </tr>\n",
       "    <tr>\n",
       "      <td>3</td>\n",
       "      <td>1</td>\n",
       "      <td>47</td>\n",
       "      <td>5.0</td>\n",
       "    </tr>\n",
       "    <tr>\n",
       "      <td>4</td>\n",
       "      <td>1</td>\n",
       "      <td>50</td>\n",
       "      <td>5.0</td>\n",
       "    </tr>\n",
       "  </tbody>\n",
       "</table>\n",
       "</div>"
      ],
      "text/plain": [
       "   userId  movieId  rating\n",
       "0       1        1     4.0\n",
       "1       1        3     4.0\n",
       "2       1        6     4.0\n",
       "3       1       47     5.0\n",
       "4       1       50     5.0"
      ]
     },
     "execution_count": 320,
     "metadata": {},
     "output_type": "execute_result"
    }
   ],
   "source": [
    "print('reduce item dimension before:')\n",
    "df_ratings.head()"
   ]
  },
  {
   "cell_type": "code",
   "execution_count": 321,
   "metadata": {},
   "outputs": [
    {
     "name": "stdout",
     "output_type": "stream",
     "text": [
      "        userId  movieId  rating                               title\n",
      "0            1        1     4.0                    Toy Story (1995)\n",
      "1            1        3     4.0             Grumpier Old Men (1995)\n",
      "2            1        6     4.0                         Heat (1995)\n",
      "3            1       47     5.0         Seven (a.k.a. Se7en) (1995)\n",
      "4            1       50     5.0          Usual Suspects, The (1995)\n",
      "...        ...      ...     ...                                 ...\n",
      "100854     611        6     2.0                         Heat (1995)\n",
      "100855     611       16     5.0                       Casino (1995)\n",
      "100856     611        5     1.0  Father of the Bride Part II (1995)\n",
      "100857     611        4     1.0            Waiting to Exhale (1995)\n",
      "100858     611        9     2.0                 Sudden Death (1995)\n",
      "\n",
      "[100859 rows x 4 columns]\n"
     ]
    }
   ],
   "source": [
    "# print(df_ratings['movieId'])\n",
    "# print(df_movies)\n",
    "k = pd.merge(df_ratings, df_movies, on='movieId', how='left')\n",
    "print(k)"
   ]
  },
  {
   "cell_type": "code",
   "execution_count": 322,
   "metadata": {},
   "outputs": [
    {
     "name": "stdout",
     "output_type": "stream",
     "text": [
      "movieId  1       2       3       4       5       6       7       8       \\\n",
      "userId                                                                    \n",
      "1           4.0     NaN     4.0     NaN     NaN     4.0     NaN     NaN   \n",
      "2           NaN     NaN     NaN     NaN     NaN     NaN     NaN     NaN   \n",
      "3           NaN     NaN     NaN     NaN     NaN     NaN     NaN     NaN   \n",
      "4           NaN     NaN     NaN     NaN     NaN     NaN     NaN     NaN   \n",
      "5           4.0     NaN     NaN     NaN     NaN     NaN     NaN     NaN   \n",
      "...         ...     ...     ...     ...     ...     ...     ...     ...   \n",
      "607         4.0     NaN     NaN     NaN     NaN     NaN     NaN     NaN   \n",
      "608         2.5     2.0     2.0     NaN     NaN     NaN     NaN     NaN   \n",
      "609         3.0     NaN     NaN     NaN     NaN     NaN     NaN     NaN   \n",
      "610         5.0     NaN     NaN     NaN     NaN     5.0     NaN     NaN   \n",
      "611         5.0     NaN     2.0     1.0     1.0     2.0     NaN     NaN   \n",
      "\n",
      "movieId  9       10      ...  193565  193567  193571  193573  193579  193581  \\\n",
      "userId                   ...                                                   \n",
      "1           NaN     NaN  ...     NaN     NaN     NaN     NaN     NaN     NaN   \n",
      "2           NaN     NaN  ...     NaN     NaN     NaN     NaN     NaN     NaN   \n",
      "3           NaN     NaN  ...     NaN     NaN     NaN     NaN     NaN     NaN   \n",
      "4           NaN     NaN  ...     NaN     NaN     NaN     NaN     NaN     NaN   \n",
      "5           NaN     NaN  ...     NaN     NaN     NaN     NaN     NaN     NaN   \n",
      "...         ...     ...  ...     ...     ...     ...     ...     ...     ...   \n",
      "607         NaN     NaN  ...     NaN     NaN     NaN     NaN     NaN     NaN   \n",
      "608         NaN     4.0  ...     NaN     NaN     NaN     NaN     NaN     NaN   \n",
      "609         NaN     4.0  ...     NaN     NaN     NaN     NaN     NaN     NaN   \n",
      "610         NaN     NaN  ...     NaN     NaN     NaN     NaN     NaN     NaN   \n",
      "611         2.0     NaN  ...     NaN     NaN     NaN     NaN     NaN     NaN   \n",
      "\n",
      "movieId  193583  193585  193587  193609  \n",
      "userId                                   \n",
      "1           NaN     NaN     NaN     NaN  \n",
      "2           NaN     NaN     NaN     NaN  \n",
      "3           NaN     NaN     NaN     NaN  \n",
      "4           NaN     NaN     NaN     NaN  \n",
      "5           NaN     NaN     NaN     NaN  \n",
      "...         ...     ...     ...     ...  \n",
      "607         NaN     NaN     NaN     NaN  \n",
      "608         NaN     NaN     NaN     NaN  \n",
      "609         NaN     NaN     NaN     NaN  \n",
      "610         NaN     NaN     NaN     NaN  \n",
      "611         NaN     NaN     NaN     NaN  \n",
      "\n",
      "[611 rows x 9724 columns]\n",
      "        0     1     2     3     4     5     6     7     8     9     ...  9714  \\\n",
      "userId                                                              ...         \n",
      "1        4.0   NaN   4.0   NaN   NaN   4.0   NaN   NaN   NaN   NaN  ...   NaN   \n",
      "2        NaN   NaN   NaN   NaN   NaN   NaN   NaN   NaN   NaN   NaN  ...   NaN   \n",
      "3        NaN   NaN   NaN   NaN   NaN   NaN   NaN   NaN   NaN   NaN  ...   NaN   \n",
      "4        NaN   NaN   NaN   NaN   NaN   NaN   NaN   NaN   NaN   NaN  ...   NaN   \n",
      "5        4.0   NaN   NaN   NaN   NaN   NaN   NaN   NaN   NaN   NaN  ...   NaN   \n",
      "...      ...   ...   ...   ...   ...   ...   ...   ...   ...   ...  ...   ...   \n",
      "607      4.0   NaN   NaN   NaN   NaN   NaN   NaN   NaN   NaN   NaN  ...   NaN   \n",
      "608      2.5   2.0   2.0   NaN   NaN   NaN   NaN   NaN   NaN   4.0  ...   NaN   \n",
      "609      3.0   NaN   NaN   NaN   NaN   NaN   NaN   NaN   NaN   4.0  ...   NaN   \n",
      "610      5.0   NaN   NaN   NaN   NaN   5.0   NaN   NaN   NaN   NaN  ...   NaN   \n",
      "611      5.0   NaN   2.0   1.0   1.0   2.0   NaN   NaN   2.0   NaN  ...   NaN   \n",
      "\n",
      "        9715  9716  9717  9718  9719  9720  9721  9722  9723  \n",
      "userId                                                        \n",
      "1        NaN   NaN   NaN   NaN   NaN   NaN   NaN   NaN   NaN  \n",
      "2        NaN   NaN   NaN   NaN   NaN   NaN   NaN   NaN   NaN  \n",
      "3        NaN   NaN   NaN   NaN   NaN   NaN   NaN   NaN   NaN  \n",
      "4        NaN   NaN   NaN   NaN   NaN   NaN   NaN   NaN   NaN  \n",
      "5        NaN   NaN   NaN   NaN   NaN   NaN   NaN   NaN   NaN  \n",
      "...      ...   ...   ...   ...   ...   ...   ...   ...   ...  \n",
      "607      NaN   NaN   NaN   NaN   NaN   NaN   NaN   NaN   NaN  \n",
      "608      NaN   NaN   NaN   NaN   NaN   NaN   NaN   NaN   NaN  \n",
      "609      NaN   NaN   NaN   NaN   NaN   NaN   NaN   NaN   NaN  \n",
      "610      NaN   NaN   NaN   NaN   NaN   NaN   NaN   NaN   NaN  \n",
      "611      NaN   NaN   NaN   NaN   NaN   NaN   NaN   NaN   NaN  \n",
      "\n",
      "[611 rows x 9724 columns]\n",
      "reduce item dimension after:\n"
     ]
    },
    {
     "data": {
      "text/html": [
       "<div>\n",
       "<style scoped>\n",
       "    .dataframe tbody tr th:only-of-type {\n",
       "        vertical-align: middle;\n",
       "    }\n",
       "\n",
       "    .dataframe tbody tr th {\n",
       "        vertical-align: top;\n",
       "    }\n",
       "\n",
       "    .dataframe thead th {\n",
       "        text-align: right;\n",
       "    }\n",
       "</style>\n",
       "<table border=\"1\" class=\"dataframe\">\n",
       "  <thead>\n",
       "    <tr style=\"text-align: right;\">\n",
       "      <th></th>\n",
       "      <th>userId</th>\n",
       "      <th>movieId</th>\n",
       "      <th>rating</th>\n",
       "    </tr>\n",
       "  </thead>\n",
       "  <tbody>\n",
       "    <tr>\n",
       "      <td>0</td>\n",
       "      <td>1</td>\n",
       "      <td>0</td>\n",
       "      <td>4.0</td>\n",
       "    </tr>\n",
       "    <tr>\n",
       "      <td>1</td>\n",
       "      <td>1</td>\n",
       "      <td>2</td>\n",
       "      <td>4.0</td>\n",
       "    </tr>\n",
       "    <tr>\n",
       "      <td>2</td>\n",
       "      <td>1</td>\n",
       "      <td>5</td>\n",
       "      <td>4.0</td>\n",
       "    </tr>\n",
       "    <tr>\n",
       "      <td>3</td>\n",
       "      <td>1</td>\n",
       "      <td>43</td>\n",
       "      <td>5.0</td>\n",
       "    </tr>\n",
       "    <tr>\n",
       "      <td>4</td>\n",
       "      <td>1</td>\n",
       "      <td>46</td>\n",
       "      <td>5.0</td>\n",
       "    </tr>\n",
       "  </tbody>\n",
       "</table>\n",
       "</div>"
      ],
      "text/plain": [
       "   userId movieId  rating\n",
       "0       1       0     4.0\n",
       "1       1       2     4.0\n",
       "2       1       5     4.0\n",
       "3       1      43     5.0\n",
       "4       1      46     5.0"
      ]
     },
     "execution_count": 322,
     "metadata": {},
     "output_type": "execute_result"
    }
   ],
   "source": [
    "df_ratings = reduce_item_dim(df_ratings)\n",
    "print('reduce item dimension after:')\n",
    "df_ratings.head()"
   ]
  },
  {
   "cell_type": "code",
   "execution_count": 323,
   "metadata": {},
   "outputs": [
    {
     "name": "stdout",
     "output_type": "stream",
     "text": [
      "        userId movieId  rating\n",
      "0            1       0     4.0\n",
      "1            1       2     4.0\n",
      "2            1       5     4.0\n",
      "3            1      43     5.0\n",
      "4            1      46     5.0\n",
      "...        ...     ...     ...\n",
      "100854     611    7307     5.0\n",
      "100855     611    7675     5.0\n",
      "100856     611    8133     5.0\n",
      "100857     611    8138     1.0\n",
      "100858     611    9584     5.0\n",
      "\n",
      "[100859 rows x 3 columns]\n"
     ]
    }
   ],
   "source": [
    "print(df_ratings)"
   ]
  },
  {
   "cell_type": "markdown",
   "metadata": {},
   "source": [
    "## 2. Split Data Into Train/Test"
   ]
  },
  {
   "cell_type": "code",
   "execution_count": 324,
   "metadata": {},
   "outputs": [],
   "source": [
    "# df_train, df_test = train_test_split(df_ratings, test_size=0.2, shuffle=True, random_state=99)\n",
    "# print('shape of training data set:')\n",
    "# print(df_train.shape)\n",
    "# print('shape of test data set:')\n",
    "# print(df_test.shape)\n",
    "df_train = df_ratings"
   ]
  },
  {
   "cell_type": "markdown",
   "metadata": {},
   "source": [
    "## 3. Train Generalized Matrix Factorization and Test Model"
   ]
  },
  {
   "cell_type": "markdown",
   "metadata": {},
   "source": [
    "### define GMF model architeture and train routine"
   ]
  },
  {
   "cell_type": "code",
   "execution_count": 327,
   "metadata": {},
   "outputs": [],
   "source": [
    "def get_GMF_model(num_users, num_items, latent_dim, vu_reg, vi_reg):\n",
    "    \"\"\"\n",
    "    Build Generalized Matrix Factorization Model Topology\n",
    "    \n",
    "    Parameters\n",
    "    ----------\n",
    "    num_users: int, total number of users\n",
    "    num_iterms: int, total number of items\n",
    "    latent_dim: int, embedded dimension for user vector and item vector\n",
    "    vu_reg: float, L2 regularization of user embedded layer\n",
    "    vi_reg: float, L2 regularization of item embedded layer\n",
    "\n",
    "    Return\n",
    "    ------\n",
    "    A Keras Model with GMF model architeture\n",
    "    \"\"\"\n",
    "    # Input variables\n",
    "    user_input = Input(shape=(1,), dtype='int32', name='user_input')\n",
    "    item_input = Input(shape=(1,), dtype='int32', name='item_input')\n",
    "\n",
    "    MF_Embedding_User = Embedding(\n",
    "        input_dim=num_users + 1,\n",
    "        output_dim=latent_dim,\n",
    "        embeddings_initializer='uniform',\n",
    "        name='user_embedding',\n",
    "        embeddings_regularizer=l2(vu_reg),\n",
    "        input_length=1)\n",
    "    MF_Embedding_Item = Embedding(\n",
    "        input_dim=num_items + 1,\n",
    "        output_dim=latent_dim,\n",
    "        embeddings_initializer='uniform',\n",
    "        name='item_embedding',\n",
    "        embeddings_regularizer=l2(vi_reg),\n",
    "        input_length=1) \n",
    "    \n",
    "    # Crucial to flatten an embedding vector!\n",
    "    user_latent = Flatten()(MF_Embedding_User(user_input))\n",
    "    item_latent = Flatten()(MF_Embedding_Item(item_input))\n",
    "\n",
    "    # Element-wise product of user and item embeddings \n",
    "    predict_vector = Multiply()([user_latent, item_latent])\n",
    "    \n",
    "    # Final prediction layer\n",
    "    prediction = Dense(1, kernel_initializer='glorot_uniform', name='prediction')(predict_vector)\n",
    "    \n",
    "    # Stitch input and output\n",
    "    model = Model([user_input, item_input], prediction)\n",
    "    \n",
    "    return model\n",
    "\n",
    "\n",
    "def train_model(model, learner, batch_size, epochs, val_split, inputs, outputs):\n",
    "    \"\"\"\n",
    "    define training routine, train models and save best model\n",
    "    \n",
    "    Parameters\n",
    "    ----------\n",
    "    model: a Keras model\n",
    "    learner: str, one of ['sgd', 'adam', 'rmsprop', 'adagrad']\n",
    "    batch_size: num samples per update\n",
    "    epochs: num iterations\n",
    "    val_split: split ratio for validation data\n",
    "    inputs: inputs data\n",
    "    outputs: outputs data\n",
    "    \"\"\"\n",
    "    # add customized metric\n",
    "    def rmse(y_true, y_pred):\n",
    "        return K.sqrt(K.mean(K.square(y_true - y_pred)))\n",
    "    \n",
    "    # compile model\n",
    "    model.compile(optimizer=learner.lower(), loss='mean_squared_error', metrics=['mean_squared_error', rmse])\n",
    "    \n",
    "    # add call backs\n",
    "    early_stopper = EarlyStopping(monitor='val_rmse', patience=3, verbose=1)\n",
    "    model_saver = ModelCheckpoint(filepath=os.path.join(data_path, 'tmp/model.hdf5'),\n",
    "                                  monitor='val_rmse',\n",
    "                                  save_best_only=True,\n",
    "                                  save_weights_only=True)\n",
    "    # train model\n",
    "    history = model.fit(inputs, outputs,\n",
    "                        batch_size=batch_size,\n",
    "                        epochs=epochs,\n",
    "                        validation_split=val_split,\n",
    "                        callbacks=[early_stopper, model_saver])\n",
    "    return history\n",
    "\n",
    "\n",
    "def load_trained_model(model, weights_path):\n",
    "    model.load_weights(weights_path)\n",
    "    return model"
   ]
  },
  {
   "cell_type": "markdown",
   "metadata": {},
   "source": [
    "### create GMF model"
   ]
  },
  {
   "cell_type": "code",
   "execution_count": 349,
   "metadata": {},
   "outputs": [
    {
     "name": "stdout",
     "output_type": "stream",
     "text": [
      "Model: \"model_92\"\n",
      "__________________________________________________________________________________________________\n",
      "Layer (type)                    Output Shape         Param #     Connected to                     \n",
      "==================================================================================================\n",
      "user_input (InputLayer)         [(None, 1)]          0                                            \n",
      "__________________________________________________________________________________________________\n",
      "item_input (InputLayer)         [(None, 1)]          0                                            \n",
      "__________________________________________________________________________________________________\n",
      "user_embedding (Embedding)      (None, 1, 100)       61200       user_input[0][0]                 \n",
      "__________________________________________________________________________________________________\n",
      "item_embedding (Embedding)      (None, 1, 100)       972500      item_input[0][0]                 \n",
      "__________________________________________________________________________________________________\n",
      "flatten_278 (Flatten)           (None, 100)          0           user_embedding[0][0]             \n",
      "__________________________________________________________________________________________________\n",
      "flatten_279 (Flatten)           (None, 100)          0           item_embedding[0][0]             \n",
      "__________________________________________________________________________________________________\n",
      "multiply_81 (Multiply)          (None, 100)          0           flatten_278[0][0]                \n",
      "                                                                 flatten_279[0][0]                \n",
      "__________________________________________________________________________________________________\n",
      "prediction (Dense)              (None, 1)            101         multiply_81[0][0]                \n",
      "==================================================================================================\n",
      "Total params: 1,033,801\n",
      "Trainable params: 1,033,801\n",
      "Non-trainable params: 0\n",
      "__________________________________________________________________________________________________\n"
     ]
    }
   ],
   "source": [
    "GMF_model = get_GMF_model(num_users, num_items, 100, 1, 1)\n",
    "GMF_model.summary()"
   ]
  },
  {
   "cell_type": "markdown",
   "metadata": {},
   "source": [
    "### train GMF model"
   ]
  },
  {
   "cell_type": "code",
   "execution_count": 350,
   "metadata": {
    "scrolled": true
   },
   "outputs": [
    {
     "name": "stdout",
     "output_type": "stream",
     "text": [
      "Train on 95816 samples, validate on 5043 samples\n",
      "Epoch 1/10\n",
      "95816/95816 [==============================] - 60s 628us/sample - loss: 17.1070 - mean_squared_error: 9.0869 - rmse: 2.9897 - val_loss: 5.6813 - val_mean_squared_error: 5.6812 - val_rmse: 2.3811\n",
      "Epoch 2/10\n",
      "95816/95816 [==============================] - 62s 652us/sample - loss: 3.7153 - mean_squared_error: 3.7153 - rmse: 1.9079 - val_loss: 2.1707 - val_mean_squared_error: 2.1706 - val_rmse: 1.4717\n",
      "Epoch 3/10\n",
      "95816/95816 [==============================] - 62s 642us/sample - loss: 1.6015 - mean_squared_error: 1.6015 - rmse: 1.2569 - val_loss: 1.0847 - val_mean_squared_error: 1.0846 - val_rmse: 1.0378\n",
      "Epoch 4/10\n",
      "95816/95816 [==============================] - 62s 651us/sample - loss: 1.1276 - mean_squared_error: 1.1275 - rmse: 1.0578 - val_loss: 0.9485 - val_mean_squared_error: 0.9483 - val_rmse: 0.9702\n",
      "Epoch 5/10\n",
      "95816/95816 [==============================] - 62s 645us/sample - loss: 1.0952 - mean_squared_error: 1.0950 - rmse: 1.0423 - val_loss: 0.9449 - val_mean_squared_error: 0.9446 - val_rmse: 0.9671\n",
      "Epoch 6/10\n",
      "95816/95816 [==============================] - 62s 651us/sample - loss: 1.0952 - mean_squared_error: 1.0949 - rmse: 1.0421 - val_loss: 0.9453 - val_mean_squared_error: 0.9448 - val_rmse: 0.9659\n",
      "Epoch 7/10\n",
      "95816/95816 [==============================] - 60s 629us/sample - loss: 1.0955 - mean_squared_error: 1.0949 - rmse: 1.0424 - val_loss: 0.9453 - val_mean_squared_error: 0.9446 - val_rmse: 0.9675\n",
      "Epoch 8/10\n",
      "95816/95816 [==============================] - 62s 652us/sample - loss: 1.0956 - mean_squared_error: 1.0949 - rmse: 1.0419 - val_loss: 0.9459 - val_mean_squared_error: 0.9451 - val_rmse: 0.9686\n",
      "Epoch 9/10\n",
      "95816/95816 [==============================] - 62s 650us/sample - loss: 1.0956 - mean_squared_error: 1.0948 - rmse: 1.0421 - val_loss: 0.9454 - val_mean_squared_error: 0.9446 - val_rmse: 0.9675\n",
      "Epoch 00009: early stopping\n"
     ]
    }
   ],
   "source": [
    "# model config\n",
    "BATCH_SIZE = 64\n",
    "EPOCHS = 10\n",
    "VAL_SPLIT = 0.05\n",
    "\n",
    "# train model\n",
    "history = train_model(GMF_model, 'adam', BATCH_SIZE, EPOCHS, VAL_SPLIT, \n",
    "                      inputs=[df_train.userId.values, df_train.movieId.values],\n",
    "                      outputs=df_train.rating.values)"
   ]
  },
  {
   "cell_type": "markdown",
   "metadata": {},
   "source": [
    "### GMF learning curve"
   ]
  },
  {
   "cell_type": "code",
   "execution_count": 183,
   "metadata": {},
   "outputs": [
    {
     "name": "stdout",
     "output_type": "stream",
     "text": [
      "[  1   1   1 ... 611 611 611]\n",
      "[0 2 5 ... 4536 4980 5393]\n",
      "[4. 4. 4. ... 5. 5. 5.]\n",
      "100836\n",
      "1 Toy Story (1995)\n"
     ]
    }
   ],
   "source": [
    "print(df_train.userId.values)\n",
    "print(df_train.movieId.values)\n",
    "print(df_train.rating.values)\n",
    "ind = df_ratings[(df_ratings['userId'] == 611) & (df_ratings['movieId'] == 0)].index.tolist()[0]\n",
    "print(ind)\n",
    "print(k.iloc[ind]['movieId'], k.iloc[ind]['title'])"
   ]
  },
  {
   "cell_type": "code",
   "execution_count": 344,
   "metadata": {},
   "outputs": [],
   "source": [
    "def plot_learning_curve(history, metric):\n",
    "    \"\"\"\n",
    "    Plot learning curve to compare training error vs. validation error\n",
    "    \"\"\"\n",
    "    # get training error\n",
    "    errors = history.history[metric]\n",
    "    # get validation error\n",
    "    val_errors = history.history['val_{}'.format(metric)]\n",
    "    # get epochs\n",
    "    epochs = range(1, len(errors) + 1)\n",
    "\n",
    "    # plot\n",
    "    plt.figure(figsize=(12, 7))\n",
    "    plt.plot(epochs, errors, 'bo', label='training {}'.format(metric))\n",
    "    plt.plot(epochs, val_errors, 'b', label='validation {}'.format(metric))\n",
    "    plt.xlabel('number of epochs')\n",
    "    plt.ylabel(metric)\n",
    "    plt.title('Model Learning Curve')\n",
    "    plt.grid(True)\n",
    "    plt.legend()\n",
    "    plt.show()"
   ]
  },
  {
   "cell_type": "code",
   "execution_count": 351,
   "metadata": {},
   "outputs": [
    {
     "data": {
      "image/png": "[encoded data removed]",
      "text/plain": [
       "<Figure size 864x504 with 1 Axes>"
      ]
     },
     "metadata": {
      "needs_background": "light"
     },
     "output_type": "display_data"
    }
   ],
   "source": [
    "plot_learning_curve(history, 'rmse')"
   ]
  },
  {
   "cell_type": "markdown",
   "metadata": {},
   "source": [
    "### GMF model testing\n",
    "And finally, make a prediction and check the testing error using out-of-sample data"
   ]
  },
  {
   "cell_type": "code",
   "execution_count": 346,
   "metadata": {},
   "outputs": [],
   "source": [
    "# define rmse function\n",
    "rmse = lambda true, pred: np.sqrt(np.mean(np.square(np.squeeze(predictions) - np.squeeze(df_test.rating.values))))"
   ]
  },
  {
   "cell_type": "code",
   "execution_count": 366,
   "metadata": {},
   "outputs": [
    {
     "name": "stdout",
     "output_type": "stream",
     "text": [
      "1 Toy Story (1995) [3.498193]\n",
      "2 Jumanji (1995) [3.498193]\n",
      "3 Grumpier Old Men (1995) [3.498193]\n",
      "4 Waiting to Exhale (1995) [3.498193]\n",
      "5 Father of the Bride Part II (1995) [3.498193]\n",
      "6 Heat (1995) [3.498193]\n",
      "7 Sabrina (1995) [3.498193]\n",
      "8 Tom and Huck (1995) [3.498193]\n",
      "9 Sudden Death (1995) [3.498193]\n",
      "10 GoldenEye (1995) [3.498193]\n",
      "11 American President, The (1995) [3.498193]\n",
      "12 Dracula: Dead and Loving It (1995) [3.498193]\n",
      "13 Balto (1995) [3.498193]\n",
      "14 Nixon (1995) [3.498193]\n",
      "15 Cutthroat Island (1995) [3.498193]\n",
      "16 Casino (1995) [3.498193]\n",
      "17 Sense and Sensibility (1995) [3.498193]\n",
      "18 Four Rooms (1995) [3.498193]\n",
      "19 Ace Ventura: When Nature Calls (1995) [3.498193]\n",
      "20 Money Train (1995) [3.498193]\n",
      "\n",
      "predictions on your films:\n",
      "\n",
      "        rating                                              title\n",
      "100836     5.0                                   Toy Story (1995)\n",
      "100837     5.0                                    Iron Man (2008)\n",
      "100838     5.0                               Avengers, The (2012)\n",
      "100839     2.0                                     Othello (1995)\n",
      "100840     4.0                                Pulp Fiction (1994)\n",
      "100841     5.0                 Kingsman: The Golden Circle (2017)\n",
      "100842     4.0                                  True Crime (1996)\n",
      "100843     1.0                                      Girl 6 (1996)\n",
      "100844     1.0          Thin Line Between Love and Hate, A (1996)\n",
      "100845     1.0  Highlander III: The Sorcerer (a.k.a. Highlande...\n",
      "100846     5.0  Star Wars: Episode II - Attack of the Clones (...\n",
      "100847     5.0                                Spider-Man 2 (2004)\n",
      "100848     5.0                              Police Academy (1984)\n",
      "100849     5.0                       Bourne Supremacy, The (2004)\n",
      "100850     5.0                                  Iron Man 2 (2010)\n",
      "100851     5.0                                  Iron Man 3 (2013)\n",
      "100852     1.0                Shaolin Temple (Shao Lin si) (1976)\n",
      "100853     2.0                            Grumpier Old Men (1995)\n",
      "100854     2.0                                        Heat (1995)\n",
      "100855     5.0                                      Casino (1995)\n",
      "100856     1.0                 Father of the Bride Part II (1995)\n",
      "100857     1.0                           Waiting to Exhale (1995)\n",
      "100858     2.0                                Sudden Death (1995)\n"
     ]
    }
   ],
   "source": [
    "# load best model\n",
    "GMF_model = get_GMF_model(num_users, num_items, 100, 1, 1)\n",
    "GMF_model = load_trained_model(GMF_model, os.path.join(data_path, 'tmp/modelGMFBest.hdf5'))\n",
    "# make prediction using test data\n",
    "my_ind = np.ones(num_items) * 611\n",
    "my_films = np.arange(0, num_items)\n",
    "# print(my_ind.shape)\n",
    "# print(my_films.shape)\n",
    "predictions = GMF_model.predict([my_ind, my_films])\n",
    "sort_index = sorted(range(len(predictions)), key=lambda k: predictions[k][0], reverse=True)\n",
    "\n",
    "for i in range(20):\n",
    "    ind = df_ratings[df_ratings['movieId'] == sort_index[i]].index.tolist()[0]\n",
    "    print(k.iloc[ind]['movieId'], k.iloc[ind]['title'], predictions[sort_index[i]])\n",
    "    \n",
    "print('\\npredictions on your films:\\n')\n",
    "\n",
    "print(k[k['userId']== 611].iloc[:,2:4])\n",
    "\n",
    "# get the RMSE\n",
    "# error = rmse(df_test.rating.values, predictions)\n",
    "# print('The out-of-sample RMSE of rating predictions is', round(error, 4))"
   ]
  },
  {
   "cell_type": "markdown",
   "metadata": {},
   "source": [
    "## 4. Train Multi-Layer Perceptron Model and Test Model"
   ]
  },
  {
   "cell_type": "code",
   "execution_count": 64,
   "metadata": {},
   "outputs": [
    {
     "name": "stdout",
     "output_type": "stream",
     "text": [
      "[552 445  21 ... 111 380 263]\n",
      "[  541  1230  4040 ... 96432   293   380]\n",
      "[5.  5.  2.5 ... 3.5 5.  4. ]\n"
     ]
    }
   ],
   "source": [
    "print(df_test.userId.values)\n",
    "print(df_test.movieId.values)\n",
    "print(df_test.rating.values)\n"
   ]
  },
  {
   "cell_type": "markdown",
   "metadata": {},
   "source": [
    "### define MLP model architeture"
   ]
  },
  {
   "cell_type": "code",
   "execution_count": 356,
   "metadata": {},
   "outputs": [],
   "source": [
    "def get_MLP_model(num_users, num_items, layers, reg_layers):\n",
    "    \"\"\"\n",
    "    Build Multi-Layer Perceptron Model Topology\n",
    "    \n",
    "    Parameters\n",
    "    ----------\n",
    "    num_users: int, total number of users\n",
    "    num_iterms: int, total number of items\n",
    "    layers: list of int, each element is the number of hidden units for each layer,\n",
    "        with the exception of first element. First element is the sum of dims of\n",
    "        user latent vector and item latent vector\n",
    "    reg_layers: list of int, each element is the L2 regularization parameter for\n",
    "        each layer in MLP\n",
    "\n",
    "    Return\n",
    "    ------\n",
    "    A Keras Model with MLP model architeture\n",
    "    \"\"\"\n",
    "    assert len(layers) == len(reg_layers)\n",
    "    num_layer = len(layers) # Number of layers in the MLP\n",
    "    # Input variables\n",
    "    user_input = Input(shape=(1,), dtype='int32', name='user_input')\n",
    "    item_input = Input(shape=(1,), dtype='int32', name='item_input')\n",
    "\n",
    "    MLP_Embedding_User = Embedding(\n",
    "        input_dim=num_users + 1,\n",
    "        output_dim=layers[0] // 2,\n",
    "        embeddings_initializer='uniform',\n",
    "        name='user_embedding',\n",
    "        embeddings_regularizer=l2(reg_layers[0]),\n",
    "        input_length=1)\n",
    "    MLP_Embedding_Item = Embedding(\n",
    "        input_dim=num_items + 1,\n",
    "        output_dim=layers[0] // 2,\n",
    "        embeddings_initializer='uniform',\n",
    "        name='item_embedding',\n",
    "        embeddings_regularizer=l2(reg_layers[0]),\n",
    "        input_length=1) \n",
    "    \n",
    "    # Crucial to flatten an embedding vector!\n",
    "    user_latent = Flatten()(MLP_Embedding_User(user_input))\n",
    "    item_latent = Flatten()(MLP_Embedding_Item(item_input))\n",
    "\n",
    "    # The 0-th layer is the concatenation of embedding layers\n",
    "    vector = Concatenate(axis=-1)([user_latent, item_latent])\n",
    "\n",
    "    # MLP layers\n",
    "    for idx in range(1, num_layer):\n",
    "        layer = Dense(\n",
    "            units=layers[idx],\n",
    "            activation='relu',\n",
    "            kernel_initializer='glorot_uniform',\n",
    "            kernel_regularizer=l2(reg_layers[idx]),\n",
    "            name = 'layer%d' %idx)\n",
    "        vector = layer(vector)\n",
    "    \n",
    "    # Final prediction layer\n",
    "    prediction = Dense(1, kernel_initializer='glorot_uniform', name='prediction')(vector)\n",
    "    \n",
    "    # Stitch input and output\n",
    "    model = Model([user_input, item_input], prediction)\n",
    "    \n",
    "    return model"
   ]
  },
  {
   "cell_type": "markdown",
   "metadata": {},
   "source": [
    "### create MLP model"
   ]
  },
  {
   "cell_type": "code",
   "execution_count": 360,
   "metadata": {},
   "outputs": [
    {
     "name": "stdout",
     "output_type": "stream",
     "text": [
      "Model: \"model_97\"\n",
      "__________________________________________________________________________________________________\n",
      "Layer (type)                    Output Shape         Param #     Connected to                     \n",
      "==================================================================================================\n",
      "user_input (InputLayer)         [(None, 1)]          0                                            \n",
      "__________________________________________________________________________________________________\n",
      "item_input (InputLayer)         [(None, 1)]          0                                            \n",
      "__________________________________________________________________________________________________\n",
      "user_embedding (Embedding)      (None, 1, 32)        19584       user_input[0][0]                 \n",
      "__________________________________________________________________________________________________\n",
      "item_embedding (Embedding)      (None, 1, 32)        311200      item_input[0][0]                 \n",
      "__________________________________________________________________________________________________\n",
      "flatten_288 (Flatten)           (None, 32)           0           user_embedding[0][0]             \n",
      "__________________________________________________________________________________________________\n",
      "flatten_289 (Flatten)           (None, 32)           0           item_embedding[0][0]             \n",
      "__________________________________________________________________________________________________\n",
      "concatenate_107 (Concatenate)   (None, 64)           0           flatten_288[0][0]                \n",
      "                                                                 flatten_289[0][0]                \n",
      "__________________________________________________________________________________________________\n",
      "layer1 (Dense)                  (None, 32)           2080        concatenate_107[0][0]            \n",
      "__________________________________________________________________________________________________\n",
      "layer2 (Dense)                  (None, 16)           528         layer1[0][0]                     \n",
      "__________________________________________________________________________________________________\n",
      "layer3 (Dense)                  (None, 8)            136         layer2[0][0]                     \n",
      "__________________________________________________________________________________________________\n",
      "prediction (Dense)              (None, 1)            9           layer3[0][0]                     \n",
      "==================================================================================================\n",
      "Total params: 333,537\n",
      "Trainable params: 333,537\n",
      "Non-trainable params: 0\n",
      "__________________________________________________________________________________________________\n"
     ]
    }
   ],
   "source": [
    "MLP_model = get_MLP_model(num_users, num_items, [64, 32, 16, 8], [1, 1, 1, 1])\n",
    "MLP_model.summary()"
   ]
  },
  {
   "cell_type": "markdown",
   "metadata": {},
   "source": [
    "### train MLP model"
   ]
  },
  {
   "cell_type": "code",
   "execution_count": 361,
   "metadata": {
    "scrolled": true
   },
   "outputs": [
    {
     "name": "stdout",
     "output_type": "stream",
     "text": [
      "Train on 95816 samples, validate on 5043 samples\n",
      "Epoch 1/30\n",
      "95816/95816 [==============================] - 29s 299us/sample - loss: 9.4250 - mean_squared_error: 1.8100 - rmse: 1.2239 - val_loss: 0.9516 - val_mean_squared_error: 0.9515 - val_rmse: 0.9711\n",
      "Epoch 2/30\n",
      "95816/95816 [==============================] - 23s 242us/sample - loss: 1.0960 - mean_squared_error: 1.0959 - rmse: 1.0428 - val_loss: 0.9439 - val_mean_squared_error: 0.9439 - val_rmse: 0.9673\n",
      "Epoch 3/30\n",
      "95816/95816 [==============================] - 22s 233us/sample - loss: 1.0965 - mean_squared_error: 1.0964 - rmse: 1.0428 - val_loss: 0.9539 - val_mean_squared_error: 0.9536 - val_rmse: 0.9701\n",
      "Epoch 4/30\n",
      "95816/95816 [==============================] - 24s 253us/sample - loss: 1.0962 - mean_squared_error: 1.0961 - rmse: 1.0423 - val_loss: 0.9440 - val_mean_squared_error: 0.9439 - val_rmse: 0.9670\n",
      "Epoch 5/30\n",
      "95816/95816 [==============================] - 23s 241us/sample - loss: 1.0962 - mean_squared_error: 1.0960 - rmse: 1.0426 - val_loss: 0.9449 - val_mean_squared_error: 0.9448 - val_rmse: 0.9690\n",
      "Epoch 6/30\n",
      "95816/95816 [==============================] - 23s 244us/sample - loss: 1.0960 - mean_squared_error: 1.0958 - rmse: 1.0425 - val_loss: 0.9470 - val_mean_squared_error: 0.9468 - val_rmse: 0.9695\n",
      "Epoch 7/30\n",
      "95816/95816 [==============================] - 23s 241us/sample - loss: 1.0959 - mean_squared_error: 1.0957 - rmse: 1.0429 - val_loss: 0.9452 - val_mean_squared_error: 0.9450 - val_rmse: 0.9684\n",
      "Epoch 00007: early stopping\n"
     ]
    }
   ],
   "source": [
    "# model config\n",
    "BATCH_SIZE = 64\n",
    "EPOCHS = 30\n",
    "VAL_SPLIT = 0.05\n",
    "\n",
    "# train model\n",
    "history = train_model(MLP_model, 'adam', BATCH_SIZE, EPOCHS, VAL_SPLIT, \n",
    "                      inputs=[df_train.userId.values, df_train.movieId.values],\n",
    "                      outputs=df_train.rating.values)"
   ]
  },
  {
   "cell_type": "markdown",
   "metadata": {},
   "source": [
    "### MLP learning curve"
   ]
  },
  {
   "cell_type": "code",
   "execution_count": 362,
   "metadata": {},
   "outputs": [
    {
     "data": {
      "image/png": "[encoded data removed]",
      "text/plain": [
       "<Figure size 864x504 with 1 Axes>"
      ]
     },
     "metadata": {
      "needs_background": "light"
     },
     "output_type": "display_data"
    }
   ],
   "source": [
    "plot_learning_curve(history, 'rmse')"
   ]
  },
  {
   "cell_type": "markdown",
   "metadata": {},
   "source": [
    "### MLP model testing\n",
    "And finally, make a prediction and check the testing error using out-of-sample data"
   ]
  },
  {
   "cell_type": "code",
   "execution_count": 365,
   "metadata": {},
   "outputs": [
    {
     "name": "stdout",
     "output_type": "stream",
     "text": [
      "1 Toy Story (1995) [3.5327957]\n",
      "2 Jumanji (1995) [3.5327957]\n",
      "3 Grumpier Old Men (1995) [3.5327957]\n",
      "4 Waiting to Exhale (1995) [3.5327957]\n",
      "5 Father of the Bride Part II (1995) [3.5327957]\n",
      "6 Heat (1995) [3.5327957]\n",
      "7 Sabrina (1995) [3.5327957]\n",
      "8 Tom and Huck (1995) [3.5327957]\n",
      "9 Sudden Death (1995) [3.5327957]\n",
      "10 GoldenEye (1995) [3.5327957]\n",
      "11 American President, The (1995) [3.5327957]\n",
      "12 Dracula: Dead and Loving It (1995) [3.5327957]\n",
      "13 Balto (1995) [3.5327957]\n",
      "14 Nixon (1995) [3.5327957]\n",
      "15 Cutthroat Island (1995) [3.5327957]\n",
      "16 Casino (1995) [3.5327957]\n",
      "17 Sense and Sensibility (1995) [3.5327957]\n",
      "18 Four Rooms (1995) [3.5327957]\n",
      "19 Ace Ventura: When Nature Calls (1995) [3.5327957]\n",
      "20 Money Train (1995) [3.5327957]\n",
      "\n",
      "predictions on your films:\n",
      "\n",
      "        rating                                              title\n",
      "100836     5.0                                   Toy Story (1995)\n",
      "100837     5.0                                    Iron Man (2008)\n",
      "100838     5.0                               Avengers, The (2012)\n",
      "100839     2.0                                     Othello (1995)\n",
      "100840     4.0                                Pulp Fiction (1994)\n",
      "100841     5.0                 Kingsman: The Golden Circle (2017)\n",
      "100842     4.0                                  True Crime (1996)\n",
      "100843     1.0                                      Girl 6 (1996)\n",
      "100844     1.0          Thin Line Between Love and Hate, A (1996)\n",
      "100845     1.0  Highlander III: The Sorcerer (a.k.a. Highlande...\n",
      "100846     5.0  Star Wars: Episode II - Attack of the Clones (...\n",
      "100847     5.0                                Spider-Man 2 (2004)\n",
      "100848     5.0                              Police Academy (1984)\n",
      "100849     5.0                       Bourne Supremacy, The (2004)\n",
      "100850     5.0                                  Iron Man 2 (2010)\n",
      "100851     5.0                                  Iron Man 3 (2013)\n",
      "100852     1.0                Shaolin Temple (Shao Lin si) (1976)\n",
      "100853     2.0                            Grumpier Old Men (1995)\n",
      "100854     2.0                                        Heat (1995)\n",
      "100855     5.0                                      Casino (1995)\n",
      "100856     1.0                 Father of the Bride Part II (1995)\n",
      "100857     1.0                           Waiting to Exhale (1995)\n",
      "100858     2.0                                Sudden Death (1995)\n"
     ]
    }
   ],
   "source": [
    "# load best model\n",
    "MLP_model = get_MLP_model(num_users, num_items, [64, 32, 16, 8], [1, 1, 1, 1])\n",
    "MLP_model = load_trained_model(MLP_model, os.path.join(data_path, 'tmp/model.hdf5'))\n",
    "# make prediction using test data\n",
    "# predictions = MLP_model.predict([df_test.userId.values, df_test.movieId.values])\n",
    "# # get the RMSE\n",
    "# error = rmse(df_test.rating.values, predictions)\n",
    "# print('The out-of-sample RMSE of rating predictions is', round(error, 4))\n",
    "my_ind = np.ones(num_items) * 611\n",
    "my_films = np.arange(0, num_items)\n",
    "# print(my_ind.shape)\n",
    "# print(my_films.shape)\n",
    "predictions = MLP_model.predict([my_ind, my_films])\n",
    "sort_index = sorted(range(len(predictions)), key=lambda k: predictions[k][0], reverse=True)\n",
    "\n",
    "for i in range(20):\n",
    "    ind = df_ratings[df_ratings['movieId'] == sort_index[i]].index.tolist()[0]\n",
    "    print(k.iloc[ind]['movieId'], k.iloc[ind]['title'], predictions[sort_index[i]])\n",
    "    \n",
    "print('\\npredictions on your films:\\n')\n",
    "\n",
    "print(k[k['userId']== 611].iloc[:,2:4])"
   ]
  },
  {
   "cell_type": "markdown",
   "metadata": {},
   "source": [
    "## 5. Train Neural Matrix Factorization (NeuMF) and Test Model"
   ]
  },
  {
   "cell_type": "markdown",
   "metadata": {},
   "source": [
    "### define NeuMF model architeture"
   ]
  },
  {
   "cell_type": "code",
   "execution_count": 328,
   "metadata": {},
   "outputs": [],
   "source": [
    "def get_NeuMF_model(num_users, num_items, MF_dim, MF_reg, MLP_layers, MLP_regs):\n",
    "    \"\"\"\n",
    "    Build Neural Matrix Factorization (NeuMF) Model Topology.\n",
    "    This is stack version of both GMF and MLP\n",
    "    \n",
    "    Parameters\n",
    "    ----------\n",
    "    num_users: int, total number of users\n",
    "    num_iterms: int, total number of items\n",
    "    MF_dim: int, embedded dimension for user vector and item vector in MF\n",
    "    MF_reg: tuple of float, L2 regularization of MF embedded layer\n",
    "    MLP_layers: list of int, each element is the number of hidden units for each MLP layer,\n",
    "        with the exception of first element. First element is the sum of dims of\n",
    "        user latent vector and item latent vector\n",
    "    MLP_regs: list of int, each element is the L2 regularization parameter for\n",
    "        each layer in MLP\n",
    "\n",
    "    Return\n",
    "    ------\n",
    "    A Keras Model with MLP model architeture\n",
    "    \"\"\"\n",
    "    assert len(MLP_layers) == len(MLP_regs)\n",
    "    num_MLP_layer = len(MLP_layers) # Number of layers in the MLP\n",
    "    # Input variables\n",
    "    user_input = Input(shape=(1,), dtype='int32', name='user_input')\n",
    "    item_input = Input(shape=(1,), dtype='int32', name='item_input')\n",
    "\n",
    "    # Embedding layer\n",
    "    \n",
    "    # MF\n",
    "    MF_Embedding_User = Embedding(\n",
    "        input_dim=num_users + 1,\n",
    "        output_dim=MF_dim,\n",
    "        embeddings_initializer='uniform',\n",
    "        name='mf_user_embedding',\n",
    "        embeddings_regularizer=l2(MF_reg[0]),\n",
    "        input_length=1)\n",
    "    MF_Embedding_Item = Embedding(\n",
    "        input_dim=num_items + 1,\n",
    "        output_dim=MF_dim,\n",
    "        embeddings_initializer='uniform',\n",
    "        name='mf_item_embedding',\n",
    "        embeddings_regularizer=l2(MF_reg[1]),\n",
    "        input_length=1)\n",
    "    \n",
    "    # MLP\n",
    "    MLP_Embedding_User = Embedding(\n",
    "        input_dim=num_users + 1,\n",
    "        output_dim=MLP_layers[0] // 2,\n",
    "        embeddings_initializer='uniform',\n",
    "        name='mlp_user_embedding',\n",
    "        embeddings_regularizer=l2(MLP_regs[0]),\n",
    "        input_length=1)\n",
    "    MLP_Embedding_Item = Embedding(\n",
    "        input_dim=num_items + 1,\n",
    "        output_dim=MLP_layers[0] // 2,\n",
    "        embeddings_initializer='uniform',\n",
    "        name='mlp_item_embedding',\n",
    "        embeddings_regularizer=l2(MLP_regs[0]),\n",
    "        input_length=1) \n",
    "    \n",
    "    # MF part\n",
    "    mf_user_latent = Flatten()(MF_Embedding_User(user_input))\n",
    "    mf_item_latent = Flatten()(MF_Embedding_Item(item_input))\n",
    "    mf_vector = Multiply()([mf_user_latent, mf_item_latent])\n",
    "\n",
    "    # MLP part\n",
    "    mlp_user_latent = Flatten()(MLP_Embedding_User(user_input))\n",
    "    mlp_item_latent = Flatten()(MLP_Embedding_Item(item_input))\n",
    "    mlp_vector = Concatenate(axis=-1)([mlp_user_latent, mlp_item_latent])\n",
    "    for idx in range(1, num_MLP_layer):\n",
    "        layer = Dense(\n",
    "            units=MLP_layers[idx],\n",
    "            activation='relu',\n",
    "            kernel_initializer='glorot_uniform',\n",
    "            kernel_regularizer=l2(MLP_regs[idx]),\n",
    "            name = 'layer%d' %idx)\n",
    "        mlp_vector = layer(mlp_vector)\n",
    "    \n",
    "    # Concatenate MF and MLP parts\n",
    "    predict_vector = Concatenate(axis=-1)([mf_vector, mlp_vector])\n",
    "\n",
    "    # Final prediction layer\n",
    "    prediction = Dense(1, kernel_initializer='glorot_uniform', name='prediction')(predict_vector)\n",
    "    \n",
    "    # Stitch input and output\n",
    "    model = Model([user_input, item_input], prediction)\n",
    "    \n",
    "    return model"
   ]
  },
  {
   "cell_type": "markdown",
   "metadata": {},
   "source": [
    "### create NeuMF model"
   ]
  },
  {
   "cell_type": "code",
   "execution_count": 329,
   "metadata": {},
   "outputs": [
    {
     "name": "stdout",
     "output_type": "stream",
     "text": [
      "Model: \"model_79\"\n",
      "__________________________________________________________________________________________________\n",
      "Layer (type)                    Output Shape         Param #     Connected to                     \n",
      "==================================================================================================\n",
      "user_input (InputLayer)         [(None, 1)]          0                                            \n",
      "__________________________________________________________________________________________________\n",
      "item_input (InputLayer)         [(None, 1)]          0                                            \n",
      "__________________________________________________________________________________________________\n",
      "mlp_user_embedding (Embedding)  (None, 1, 32)        19584       user_input[0][0]                 \n",
      "__________________________________________________________________________________________________\n",
      "mlp_item_embedding (Embedding)  (None, 1, 32)        311200      item_input[0][0]                 \n",
      "__________________________________________________________________________________________________\n",
      "flatten_234 (Flatten)           (None, 32)           0           mlp_user_embedding[0][0]         \n",
      "__________________________________________________________________________________________________\n",
      "flatten_235 (Flatten)           (None, 32)           0           mlp_item_embedding[0][0]         \n",
      "__________________________________________________________________________________________________\n",
      "concatenate_85 (Concatenate)    (None, 64)           0           flatten_234[0][0]                \n",
      "                                                                 flatten_235[0][0]                \n",
      "__________________________________________________________________________________________________\n",
      "mf_user_embedding (Embedding)   (None, 1, 100)       61200       user_input[0][0]                 \n",
      "__________________________________________________________________________________________________\n",
      "mf_item_embedding (Embedding)   (None, 1, 100)       972500      item_input[0][0]                 \n",
      "__________________________________________________________________________________________________\n",
      "layer1 (Dense)                  (None, 32)           2080        concatenate_85[0][0]             \n",
      "__________________________________________________________________________________________________\n",
      "flatten_232 (Flatten)           (None, 100)          0           mf_user_embedding[0][0]          \n",
      "__________________________________________________________________________________________________\n",
      "flatten_233 (Flatten)           (None, 100)          0           mf_item_embedding[0][0]          \n",
      "__________________________________________________________________________________________________\n",
      "layer2 (Dense)                  (None, 16)           528         layer1[0][0]                     \n",
      "__________________________________________________________________________________________________\n",
      "multiply_68 (Multiply)          (None, 100)          0           flatten_232[0][0]                \n",
      "                                                                 flatten_233[0][0]                \n",
      "__________________________________________________________________________________________________\n",
      "layer3 (Dense)                  (None, 8)            136         layer2[0][0]                     \n",
      "__________________________________________________________________________________________________\n",
      "concatenate_86 (Concatenate)    (None, 108)          0           multiply_68[0][0]                \n",
      "                                                                 layer3[0][0]                     \n",
      "__________________________________________________________________________________________________\n",
      "prediction (Dense)              (None, 1)            109         concatenate_86[0][0]             \n",
      "==================================================================================================\n",
      "Total params: 1,367,337\n",
      "Trainable params: 1,367,337\n",
      "Non-trainable params: 0\n",
      "__________________________________________________________________________________________________\n"
     ]
    }
   ],
   "source": [
    "NeuMF_model = get_NeuMF_model(\n",
    "    num_users=num_users,\n",
    "    num_items=num_items,\n",
    "    MF_dim=100,\n",
    "    MF_reg=(0, 0),\n",
    "    MLP_layers=[64, 32, 16, 8],\n",
    "    MLP_regs=[0, 0, 0, 0])\n",
    "NeuMF_model.summary()"
   ]
  },
  {
   "cell_type": "markdown",
   "metadata": {},
   "source": [
    "### train NeuMF model"
   ]
  },
  {
   "cell_type": "code",
   "execution_count": 330,
   "metadata": {
    "scrolled": true
   },
   "outputs": [
    {
     "name": "stdout",
     "output_type": "stream",
     "text": [
      "Train on 95816 samples, validate on 5043 samples\n",
      "Epoch 1/50\n",
      "95816/95816 [==============================] - 36s 378us/sample - loss: 1.3319 - mean_squared_error: 1.3319 - rmse: 1.0274 - val_loss: 1.1297 - val_mean_squared_error: 1.1297 - val_rmse: 1.0609\n",
      "Epoch 2/50\n",
      "95816/95816 [==============================] - 34s 353us/sample - loss: 0.6049 - mean_squared_error: 0.6049 - rmse: 0.7724 - val_loss: 0.9580 - val_mean_squared_error: 0.9580 - val_rmse: 0.9756\n",
      "Epoch 3/50\n",
      "95816/95816 [==============================] - 33s 346us/sample - loss: 0.2682 - mean_squared_error: 0.2682 - rmse: 0.5138 - val_loss: 0.9540 - val_mean_squared_error: 0.9540 - val_rmse: 0.9739\n",
      "Epoch 4/50\n",
      "95816/95816 [==============================] - 36s 371us/sample - loss: 0.1271 - mean_squared_error: 0.1271 - rmse: 0.3535 - val_loss: 1.0163 - val_mean_squared_error: 1.0163 - val_rmse: 1.0056\n",
      "Epoch 5/50\n",
      "95816/95816 [==============================] - 36s 381us/sample - loss: 0.0785 - mean_squared_error: 0.0785 - rmse: 0.2779 - val_loss: 0.9271 - val_mean_squared_error: 0.9271 - val_rmse: 0.9606\n",
      "Epoch 6/50\n",
      "95816/95816 [==============================] - 36s 376us/sample - loss: 0.0614 - mean_squared_error: 0.0614 - rmse: 0.2460 - val_loss: 0.9549 - val_mean_squared_error: 0.9549 - val_rmse: 0.9746\n",
      "Epoch 7/50\n",
      "95816/95816 [==============================] - 37s 391us/sample - loss: 0.0513 - mean_squared_error: 0.0513 - rmse: 0.2254 - val_loss: 0.9147 - val_mean_squared_error: 0.9147 - val_rmse: 0.9535\n",
      "Epoch 8/50\n",
      "95816/95816 [==============================] - 41s 428us/sample - loss: 0.0424 - mean_squared_error: 0.0424 - rmse: 0.2049 - val_loss: 0.9082 - val_mean_squared_error: 0.9082 - val_rmse: 0.9502\n",
      "Epoch 9/50\n",
      "95816/95816 [==============================] - 44s 462us/sample - loss: 0.0366 - mean_squared_error: 0.0366 - rmse: 0.1903 - val_loss: 0.9119 - val_mean_squared_error: 0.9119 - val_rmse: 0.9518\n",
      "Epoch 10/50\n",
      "95816/95816 [==============================] - 41s 425us/sample - loss: 0.0337 - mean_squared_error: 0.0337 - rmse: 0.1829 - val_loss: 0.8866 - val_mean_squared_error: 0.8866 - val_rmse: 0.9383\n",
      "Epoch 11/50\n",
      "95816/95816 [==============================] - 40s 420us/sample - loss: 0.0320 - mean_squared_error: 0.0320 - rmse: 0.1779 - val_loss: 0.9071 - val_mean_squared_error: 0.9071 - val_rmse: 0.9503\n",
      "Epoch 12/50\n",
      "95816/95816 [==============================] - 40s 417us/sample - loss: 0.0297 - mean_squared_error: 0.0297 - rmse: 0.1714 - val_loss: 0.8537 - val_mean_squared_error: 0.8537 - val_rmse: 0.9195\n",
      "Epoch 13/50\n",
      "95816/95816 [==============================] - 41s 424us/sample - loss: 0.0276 - mean_squared_error: 0.0276 - rmse: 0.1654 - val_loss: 0.8824 - val_mean_squared_error: 0.8824 - val_rmse: 0.9358\n",
      "Epoch 14/50\n",
      "95816/95816 [==============================] - 40s 419us/sample - loss: 0.0258 - mean_squared_error: 0.0258 - rmse: 0.1597 - val_loss: 0.8659 - val_mean_squared_error: 0.8659 - val_rmse: 0.9274\n",
      "Epoch 15/50\n",
      "95816/95816 [==============================] - 40s 414us/sample - loss: 0.0247 - mean_squared_error: 0.0247 - rmse: 0.1564 - val_loss: 0.8662 - val_mean_squared_error: 0.8662 - val_rmse: 0.9262\n",
      "Epoch 00015: early stopping\n"
     ]
    }
   ],
   "source": [
    "# model config\n",
    "BATCH_SIZE = 64\n",
    "EPOCHS = 50\n",
    "VAL_SPLIT = 0.05\n",
    "\n",
    "# train model\n",
    "history = train_model(NeuMF_model, 'adam', BATCH_SIZE, EPOCHS, VAL_SPLIT, \n",
    "                      inputs=[df_train.userId.values, df_train.movieId.values],\n",
    "                      outputs=df_train.rating.values)"
   ]
  },
  {
   "cell_type": "markdown",
   "metadata": {},
   "source": [
    "### Neural Matrix Factorization (NeuMF) learning curve"
   ]
  },
  {
   "cell_type": "code",
   "execution_count": 331,
   "metadata": {},
   "outputs": [
    {
     "data": {
      "image/png": "[encoded data removed]",
      "text/plain": [
       "<Figure size 864x504 with 1 Axes>"
      ]
     },
     "metadata": {
      "needs_background": "light"
     },
     "output_type": "display_data"
    }
   ],
   "source": [
    "plot_learning_curve(history, 'rmse')"
   ]
  },
  {
   "cell_type": "markdown",
   "metadata": {},
   "source": [
    "### Neural Matrix Factorization (NeuMF) model testing\n",
    "And finally, make a prediction and check the testing error using out-of-sample data"
   ]
  },
  {
   "cell_type": "code",
   "execution_count": 367,
   "metadata": {},
   "outputs": [
    {
     "name": "stdout",
     "output_type": "stream",
     "text": [
      "318 Shawshank Redemption, The (1994) [4.3408403]\n",
      "1196 Star Wars: Episode V - The Empire Strikes Back (1980) [4.170156]\n",
      "3275 Boondock Saints, The (2000) [4.1524825]\n",
      "4306 Shrek (2001) [4.1163282]\n",
      "898 Philadelphia Story, The (1940) [4.0814204]\n",
      "1213 Goodfellas (1990) [4.0585065]\n",
      "168252 Logan (2017) [4.03913]\n",
      "2959 Fight Club (1999) [4.027507]\n",
      "1276 Cool Hand Luke (1967) [4.026407]\n",
      "1198 Raiders of the Lost Ark (Indiana Jones and the Raiders of the Lost Ark) (1981) [4.0255723]\n",
      "260 Star Wars: Episode IV - A New Hope (1977) [4.022367]\n",
      "356 Forrest Gump (1994) [4.022165]\n",
      "177593 Three Billboards Outside Ebbing, Missouri (2017) [4.007093]\n",
      "4011 Snatch (2000) [4.0061016]\n",
      "142488 Spotlight (2015) [3.9989533]\n",
      "1136 Monty Python and the Holy Grail (1975) [3.9970407]\n",
      "1704 Good Will Hunting (1997) [3.9961286]\n",
      "1233 Boot, Das (Boat, The) (1981) [3.9954758]\n",
      "1262 Great Escape, The (1963) [3.9952197]\n",
      "1197 Princess Bride, The (1987) [3.988771]\n",
      "\n",
      "predictions on your films:\n",
      "\n",
      "        rating                                              title\n",
      "100836     5.0                                   Toy Story (1995)\n",
      "100837     5.0                                    Iron Man (2008)\n",
      "100838     5.0                               Avengers, The (2012)\n",
      "100839     2.0                                     Othello (1995)\n",
      "100840     4.0                                Pulp Fiction (1994)\n",
      "100841     5.0                 Kingsman: The Golden Circle (2017)\n",
      "100842     4.0                                  True Crime (1996)\n",
      "100843     1.0                                      Girl 6 (1996)\n",
      "100844     1.0          Thin Line Between Love and Hate, A (1996)\n",
      "100845     1.0  Highlander III: The Sorcerer (a.k.a. Highlande...\n",
      "100846     5.0  Star Wars: Episode II - Attack of the Clones (...\n",
      "100847     5.0                                Spider-Man 2 (2004)\n",
      "100848     5.0                              Police Academy (1984)\n",
      "100849     5.0                       Bourne Supremacy, The (2004)\n",
      "100850     5.0                                  Iron Man 2 (2010)\n",
      "100851     5.0                                  Iron Man 3 (2013)\n",
      "100852     1.0                Shaolin Temple (Shao Lin si) (1976)\n",
      "100853     2.0                            Grumpier Old Men (1995)\n",
      "100854     2.0                                        Heat (1995)\n",
      "100855     5.0                                      Casino (1995)\n",
      "100856     1.0                 Father of the Bride Part II (1995)\n",
      "100857     1.0                           Waiting to Exhale (1995)\n",
      "100858     2.0                                Sudden Death (1995)\n"
     ]
    }
   ],
   "source": [
    "# load best model\n",
    "NeuMF_model = get_NeuMF_model(\n",
    "    num_users=num_users,\n",
    "    num_items=num_items,\n",
    "    MF_dim=100,\n",
    "    MF_reg=(0, 0),\n",
    "    MLP_layers=[64, 32, 16, 8],\n",
    "    MLP_regs=[0, 0, 0, 0])\n",
    "NeuMF_model = load_trained_model(NeuMF_model, os.path.join(data_path, 'tmp/modelNeuMFBest.hdf5'))\n",
    "# make prediction using test data\n",
    "# predictions = NeuMF_model.predict([df_test.userId.values, df_test.movieId.values])\n",
    "# # get the RMSE\n",
    "# error = rmse(df_test.rating.values, predictions)\n",
    "# print('The out-of-sample RMSE of rating predictions is', round(error, 4))\n",
    "my_ind = np.ones(num_items) * 611\n",
    "my_films = np.arange(0, num_items)\n",
    "# print(my_ind.shape)\n",
    "# print(my_films.shape)\n",
    "predictions = NeuMF_model.predict([my_ind, my_films])\n",
    "sort_index = sorted(range(len(predictions)), key=lambda k: predictions[k][0], reverse=True)\n",
    "\n",
    "for i in range(20):\n",
    "    ind = df_ratings[df_ratings['movieId'] == sort_index[i]].index.tolist()[0]\n",
    "    print(k.iloc[ind]['movieId'], k.iloc[ind]['title'], predictions[sort_index[i]])\n",
    "    \n",
    "print('\\npredictions on your films:\\n')\n",
    "\n",
    "print(k[k['userId']== 611].iloc[:,2:4])\n",
    "\n"
   ]
  },
  {
   "cell_type": "code",
   "execution_count": 268,
   "metadata": {},
   "outputs": [
    {
     "name": "stdout",
     "output_type": "stream",
     "text": [
      "[4.  2.5 1.5 ... 1.5 5.  5. ]\n",
      "[[3.4052823]\n",
      " [3.4052823]\n",
      " [3.4052823]\n",
      " ...\n",
      " [3.4052823]\n",
      " [3.4052823]\n",
      " [3.4052823]]\n",
      "[590  28 508 ... 480 474  84]\n",
      "23\n"
     ]
    }
   ],
   "source": [
    "print(df_test.rating.values)\n",
    "print(predictions)\n",
    "print(df_test.userId.values)\n",
    "print(len(df_ratings[df_ratings['userId'] == 611]))"
   ]
  },
  {
   "cell_type": "markdown",
   "metadata": {},
   "source": [
    "## Observations\n",
    "1. ALS's out-of-sample RMSE is 0.9206\n",
    "2. GMF's out-of-sample RMSE is 0.9237\n",
    "3. MLP's out-of-sample RMSE is 0.9094\n",
    "4. NeuMF's out-of-sample RMSE is 0.9059\n",
    "5. Rating prediction out-of-sample performance in terms of RMSE (the lower the better): NeuMF < MLP < ALS < GMF\n",
    "6. The best model is NeuMF"
   ]
  },
  {
   "cell_type": "markdown",
   "metadata": {},
   "source": [
    "## Conclusion"
   ]
  },
  {
   "cell_type": "markdown",
   "metadata": {},
   "source": [
    "1. Deep neural networks can achieve a better performance in recommendation system, specifically at Collaborative Filtering\n",
    "2. As you increase the depth of the network or broaden the network branches, the performance of the model also increases "
   ]
  }
 ],
 "metadata": {
  "kernelspec": {
   "display_name": "Python 3",
   "language": "python",
   "name": "python3"
  },
  "language_info": {
   "codemirror_mode": {
    "name": "ipython",
    "version": 3
   },
   "file_extension": ".py",
   "mimetype": "text/x-python",
   "name": "python",
   "nbconvert_exporter": "python",
   "pygments_lexer": "ipython3",
   "version": "3.7.4"
  }
 },
 "nbformat": 4,
 "nbformat_minor": 2
}
